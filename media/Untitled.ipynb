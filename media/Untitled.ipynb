{
 "cells": [
  {
   "cell_type": "code",
   "execution_count": 2,
   "id": "13f8fdd7",
   "metadata": {
    "scrolled": true
   },
   "outputs": [],
   "source": [
    "import numpy as np\n",
    "import scipy.io as sio\n",
    "from load import PCA\n",
    "from sklearn.svm import SVC\n",
    "from sklearn.ensemble import BaggingClassifier"
   ]
  },
  {
   "cell_type": "code",
   "execution_count": 3,
   "id": "e81b6035",
   "metadata": {},
   "outputs": [
    {
     "name": "stdout",
     "output_type": "stream",
     "text": [
      "(610, 340, 103)\n"
     ]
    }
   ],
   "source": [
    "data=sio.loadmat('PaviaU.mat')\n",
    "b=sio.whosmat('PaviaU.mat')\n",
    "a=b[0]            \n",
    "j=a[0]        \n",
    "ndata=data[j] \n",
    "print(a[1])\n",
    "#print(ndata)"
   ]
  },
  {
   "cell_type": "code",
   "execution_count": 4,
   "id": "ce396fb0",
   "metadata": {},
   "outputs": [],
   "source": [
    "X=ndata.reshape(-1,ndata.shape[2])"
   ]
  },
  {
   "cell_type": "code",
   "execution_count": 5,
   "id": "68212b6f",
   "metadata": {},
   "outputs": [],
   "source": [
    "pca = PCA(4)\n",
    "pca.fit(X)\n",
    "principle_components= pca.transform(X)"
   ]
  },
  {
   "cell_type": "code",
   "execution_count": 6,
   "id": "c8ce41dc",
   "metadata": {},
   "outputs": [
    {
     "name": "stdout",
     "output_type": "stream",
     "text": [
      "(207400, 4)\n"
     ]
    }
   ],
   "source": [
    "print(principle_components.shape)"
   ]
  },
  {
   "cell_type": "code",
   "execution_count": 7,
   "id": "5cdd736e",
   "metadata": {},
   "outputs": [
    {
     "name": "stdout",
     "output_type": "stream",
     "text": [
      "(207400,)\n"
     ]
    }
   ],
   "source": [
    "y=X[:,-1]\n",
    "print(y.shape)"
   ]
  },
  {
   "cell_type": "code",
   "execution_count": 8,
   "id": "a2e6f006",
   "metadata": {},
   "outputs": [],
   "source": [
    "from sklearn.model_selection import train_test_split"
   ]
  },
  {
   "cell_type": "code",
   "execution_count": 9,
   "id": "c05fe142",
   "metadata": {},
   "outputs": [],
   "source": [
    "\n",
    "X_train, X_test, y_train, y_test, indices_train, indices_test  = train_test_split(principle_components, y,  range(X.shape[0]), \n",
    "                                                                                  test_size = 0.15, random_state =11)"
   ]
  },
  {
   "cell_type": "code",
   "execution_count": 10,
   "id": "9797c0d2",
   "metadata": {},
   "outputs": [
    {
     "data": {
      "text/plain": [
       "((176290, 4), (31110, 4), (176290,))"
      ]
     },
     "execution_count": 10,
     "metadata": {},
     "output_type": "execute_result"
    }
   ],
   "source": [
    "X_train.shape, X_test.shape,y_train.shape"
   ]
  },
  {
   "cell_type": "code",
   "execution_count": 11,
   "id": "de171ad0",
   "metadata": {},
   "outputs": [],
   "source": [
    "svm =  SVC(C = 100, kernel = 'rbf', cache_size = 10*1024)"
   ]
  },
  {
   "cell_type": "code",
   "execution_count": null,
   "id": "c4b0aa7f",
   "metadata": {},
   "outputs": [],
   "source": [
    "%%time\n",
    "svm.fit(X_train, y_train)"
   ]
  },
  {
   "cell_type": "code",
   "execution_count": null,
   "id": "3145fc61",
   "metadata": {},
   "outputs": [],
   "source": [
    "y_pred = svm.predict(X_test)"
   ]
  },
  {
   "cell_type": "code",
   "execution_count": null,
   "id": "b7bebd48",
   "metadata": {},
   "outputs": [],
   "source": []
  },
  {
   "cell_type": "code",
   "execution_count": null,
   "id": "1d09238b",
   "metadata": {},
   "outputs": [],
   "source": []
  },
  {
   "cell_type": "code",
   "execution_count": null,
   "id": "c121fe88",
   "metadata": {},
   "outputs": [],
   "source": []
  },
  {
   "cell_type": "code",
   "execution_count": null,
   "id": "4edd39a4",
   "metadata": {},
   "outputs": [],
   "source": []
  },
  {
   "cell_type": "code",
   "execution_count": null,
   "id": "08a21def",
   "metadata": {},
   "outputs": [],
   "source": []
  },
  {
   "cell_type": "code",
   "execution_count": null,
   "id": "baf79182",
   "metadata": {},
   "outputs": [],
   "source": []
  },
  {
   "cell_type": "code",
   "execution_count": null,
   "id": "198ec43a",
   "metadata": {},
   "outputs": [],
   "source": []
  },
  {
   "cell_type": "code",
   "execution_count": null,
   "id": "8e42899b",
   "metadata": {},
   "outputs": [],
   "source": []
  },
  {
   "cell_type": "code",
   "execution_count": null,
   "id": "b7dd3b24",
   "metadata": {},
   "outputs": [],
   "source": []
  },
  {
   "cell_type": "code",
   "execution_count": null,
   "id": "df47e5f1",
   "metadata": {},
   "outputs": [],
   "source": []
  },
  {
   "cell_type": "code",
   "execution_count": null,
   "id": "0d6f7d44",
   "metadata": {},
   "outputs": [],
   "source": []
  },
  {
   "cell_type": "markdown",
   "id": "ef419aa2",
   "metadata": {},
   "source": [
    "# 1. Converting 3-D array to 2-D array using reshape function"
   ]
  },
  {
   "cell_type": "code",
   "execution_count": null,
   "id": "02858915",
   "metadata": {},
   "outputs": [],
   "source": [
    "c = np.array([[[1,2,3,0], [4,5,6,0]], [[7,8,9,0], [10,11,12,0]],[[13,14,15,0],[16,17,18,0]]])"
   ]
  },
  {
   "cell_type": "code",
   "execution_count": null,
   "id": "6ec85a4c",
   "metadata": {},
   "outputs": [],
   "source": [
    "print(c)"
   ]
  },
  {
   "cell_type": "code",
   "execution_count": null,
   "id": "67135447",
   "metadata": {},
   "outputs": [],
   "source": [
    "print(c.shape)"
   ]
  },
  {
   "cell_type": "code",
   "execution_count": null,
   "id": "22ca1758",
   "metadata": {},
   "outputs": [],
   "source": [
    "c=c.reshape(-1,c.shape[2])"
   ]
  },
  {
   "cell_type": "code",
   "execution_count": null,
   "id": "5ce9ab81",
   "metadata": {},
   "outputs": [],
   "source": [
    "print(c)"
   ]
  },
  {
   "cell_type": "code",
   "execution_count": null,
   "id": "eb70ec27",
   "metadata": {},
   "outputs": [],
   "source": [
    "print(c.shape)"
   ]
  },
  {
   "cell_type": "markdown",
   "id": "63707619",
   "metadata": {},
   "source": [
    "# 2.Subtraction of mean from Array X"
   ]
  },
  {
   "cell_type": "markdown",
   "id": "3d526238",
   "metadata": {},
   "source": [
    "## Before applying Mean normalization\n",
    "### The covariance matrix is"
   ]
  },
  {
   "cell_type": "code",
   "execution_count": null,
   "id": "fe88bd68",
   "metadata": {},
   "outputs": [],
   "source": [
    "print(np.cov(U.T))\n",
    "\n",
    "n1=np.cov(U.T)"
   ]
  },
  {
   "cell_type": "markdown",
   "id": "1fa6d233",
   "metadata": {},
   "source": [
    "## With Mean Normalization \n",
    "### The covariance matrix is"
   ]
  },
  {
   "cell_type": "code",
   "execution_count": null,
   "id": "d5dc844e",
   "metadata": {},
   "outputs": [],
   "source": [
    "V=V-mean"
   ]
  },
  {
   "cell_type": "code",
   "execution_count": null,
   "id": "8bcfd705",
   "metadata": {},
   "outputs": [],
   "source": [
    "print(np.cov(V.T))\n",
    "n2=np.cov(V.T)"
   ]
  },
  {
   "cell_type": "code",
   "execution_count": null,
   "id": "ad71e941",
   "metadata": {},
   "outputs": [],
   "source": []
  }
 ],
 "metadata": {
  "kernelspec": {
   "display_name": "Python 3 (ipykernel)",
   "language": "python",
   "name": "python3"
  },
  "language_info": {
   "codemirror_mode": {
    "name": "ipython",
    "version": 3
   },
   "file_extension": ".py",
   "mimetype": "text/x-python",
   "name": "python",
   "nbconvert_exporter": "python",
   "pygments_lexer": "ipython3",
   "version": "3.8.10"
  }
 },
 "nbformat": 4,
 "nbformat_minor": 5
}
